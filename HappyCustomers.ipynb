{
 "cells": [
  {
   "cell_type": "code",
   "execution_count": 1,
   "id": "de435c5d",
   "metadata": {
    "ExecuteTime": {
     "end_time": "2023-02-14T21:11:10.389690Z",
     "start_time": "2023-02-14T21:11:09.211800Z"
    }
   },
   "outputs": [],
   "source": [
    "import numpy as np\n",
    "import pandas as pd\n",
    "import matplotlib.pyplot as plt\n",
    "from sklearn.linear_model import LogisticRegression\n",
    "from sklearn.model_selection import train_test_split\n",
    "from sklearn.ensemble import RandomForestClassifier\n",
    "from sklearn.tree import DecisionTreeClassifier"
   ]
  },
  {
   "cell_type": "code",
   "execution_count": 2,
   "id": "12065236",
   "metadata": {
    "ExecuteTime": {
     "end_time": "2023-02-14T21:11:10.400241Z",
     "start_time": "2023-02-14T21:11:10.390483Z"
    }
   },
   "outputs": [
    {
     "data": {
      "text/html": [
       "<div>\n",
       "<style scoped>\n",
       "    .dataframe tbody tr th:only-of-type {\n",
       "        vertical-align: middle;\n",
       "    }\n",
       "\n",
       "    .dataframe tbody tr th {\n",
       "        vertical-align: top;\n",
       "    }\n",
       "\n",
       "    .dataframe thead th {\n",
       "        text-align: right;\n",
       "    }\n",
       "</style>\n",
       "<table border=\"1\" class=\"dataframe\">\n",
       "  <thead>\n",
       "    <tr style=\"text-align: right;\">\n",
       "      <th></th>\n",
       "      <th>Y</th>\n",
       "      <th>X1</th>\n",
       "      <th>X2</th>\n",
       "      <th>X3</th>\n",
       "      <th>X4</th>\n",
       "      <th>X5</th>\n",
       "      <th>X6</th>\n",
       "    </tr>\n",
       "  </thead>\n",
       "  <tbody>\n",
       "    <tr>\n",
       "      <th>0</th>\n",
       "      <td>0</td>\n",
       "      <td>3</td>\n",
       "      <td>3</td>\n",
       "      <td>3</td>\n",
       "      <td>4</td>\n",
       "      <td>2</td>\n",
       "      <td>4</td>\n",
       "    </tr>\n",
       "    <tr>\n",
       "      <th>1</th>\n",
       "      <td>0</td>\n",
       "      <td>3</td>\n",
       "      <td>2</td>\n",
       "      <td>3</td>\n",
       "      <td>5</td>\n",
       "      <td>4</td>\n",
       "      <td>3</td>\n",
       "    </tr>\n",
       "    <tr>\n",
       "      <th>2</th>\n",
       "      <td>1</td>\n",
       "      <td>5</td>\n",
       "      <td>3</td>\n",
       "      <td>3</td>\n",
       "      <td>3</td>\n",
       "      <td>3</td>\n",
       "      <td>5</td>\n",
       "    </tr>\n",
       "    <tr>\n",
       "      <th>3</th>\n",
       "      <td>0</td>\n",
       "      <td>5</td>\n",
       "      <td>4</td>\n",
       "      <td>3</td>\n",
       "      <td>3</td>\n",
       "      <td>3</td>\n",
       "      <td>5</td>\n",
       "    </tr>\n",
       "    <tr>\n",
       "      <th>4</th>\n",
       "      <td>0</td>\n",
       "      <td>5</td>\n",
       "      <td>4</td>\n",
       "      <td>3</td>\n",
       "      <td>3</td>\n",
       "      <td>3</td>\n",
       "      <td>5</td>\n",
       "    </tr>\n",
       "  </tbody>\n",
       "</table>\n",
       "</div>"
      ],
      "text/plain": [
       "   Y  X1  X2  X3  X4  X5  X6\n",
       "0  0   3   3   3   4   2   4\n",
       "1  0   3   2   3   5   4   3\n",
       "2  1   5   3   3   3   3   5\n",
       "3  0   5   4   3   3   3   5\n",
       "4  0   5   4   3   3   3   5"
      ]
     },
     "execution_count": 2,
     "metadata": {},
     "output_type": "execute_result"
    }
   ],
   "source": [
    "df = pd.read_csv('./data/ACME-HappinessSurvey2020.csv')\n",
    "df.head()"
   ]
  },
  {
   "cell_type": "code",
   "execution_count": 3,
   "id": "2c05f4bc",
   "metadata": {
    "ExecuteTime": {
     "end_time": "2023-02-14T21:11:10.408823Z",
     "start_time": "2023-02-14T21:11:10.402425Z"
    }
   },
   "outputs": [
    {
     "name": "stdout",
     "output_type": "stream",
     "text": [
      "<class 'pandas.core.frame.DataFrame'>\n",
      "RangeIndex: 126 entries, 0 to 125\n",
      "Data columns (total 7 columns):\n",
      " #   Column  Non-Null Count  Dtype\n",
      "---  ------  --------------  -----\n",
      " 0   Y       126 non-null    int64\n",
      " 1   X1      126 non-null    int64\n",
      " 2   X2      126 non-null    int64\n",
      " 3   X3      126 non-null    int64\n",
      " 4   X4      126 non-null    int64\n",
      " 5   X5      126 non-null    int64\n",
      " 6   X6      126 non-null    int64\n",
      "dtypes: int64(7)\n",
      "memory usage: 7.0 KB\n"
     ]
    }
   ],
   "source": [
    "df.info()"
   ]
  },
  {
   "cell_type": "code",
   "execution_count": 4,
   "id": "2346a64a",
   "metadata": {
    "ExecuteTime": {
     "end_time": "2023-02-14T21:11:10.487536Z",
     "start_time": "2023-02-14T21:11:10.409700Z"
    }
   },
   "outputs": [
    {
     "data": {
      "image/png": "[encoded data removed]",
      "text/plain": [
       "<Figure size 432x288 with 1 Axes>"
      ]
     },
     "metadata": {
      "needs_background": "light"
     },
     "output_type": "display_data"
    }
   ],
   "source": [
    "df['Y'].value_counts().plot(kind='bar', xlabel='classes', ylabel='number of occurance',\n",
    "                            title='Distribution of classes')\n",
    "plt.show()"
   ]
  },
  {
   "cell_type": "markdown",
   "id": "a2e43334",
   "metadata": {},
   "source": [
    "The data appear to be clean and the classes are balanced. So there should be no additional cleaning and upsampling/downsampling required."
   ]
  },
  {
   "cell_type": "code",
   "execution_count": 6,
   "id": "67db2068",
   "metadata": {
    "ExecuteTime": {
     "end_time": "2023-02-14T21:11:10.839397Z",
     "start_time": "2023-02-14T21:11:10.492641Z"
    },
    "scrolled": true
   },
   "outputs": [
    {
     "data": {
      "image/png": "[encoded data removed]",
      "text/plain": [
       "<Figure size 432x288 with 1 Axes>"
      ]
     },
     "metadata": {
      "needs_background": "light"
     },
     "output_type": "display_data"
    },
    {
     "data": {
      "image/png": "[encoded data removed]",
      "text/plain": [
       "<Figure size 432x288 with 1 Axes>"
      ]
     },
     "metadata": {
      "needs_background": "light"
     },
     "output_type": "display_data"
    },
    {
     "data": {
      "image/png": "[encoded data removed]",
      "text/plain": [
       "<Figure size 432x288 with 1 Axes>"
      ]
     },
     "metadata": {
      "needs_background": "light"
     },
     "output_type": "display_data"
    },
    {
     "data": {
      "image/png": "[encoded data removed]",
      "text/plain": [
       "<Figure size 432x288 with 1 Axes>"
      ]
     },
     "metadata": {
      "needs_background": "light"
     },
     "output_type": "display_data"
    },
    {
     "data": {
      "image/png": "[encoded data removed]",
      "text/plain": [
       "<Figure size 432x288 with 1 Axes>"
      ]
     },
     "metadata": {
      "needs_background": "light"
     },
     "output_type": "display_data"
    },
    {
     "data": {
      "image/png": "[encoded data removed]",
      "text/plain": [
       "<Figure size 432x288 with 1 Axes>"
      ]
     },
     "metadata": {
      "needs_background": "light"
     },
     "output_type": "display_data"
    }
   ],
   "source": [
    "X = df.drop('Y', axis=1)\n",
    "y = df['Y']\n",
    "\n",
    "for column in X.columns:\n",
    "    plt.figure()\n",
    "    plt.bar(X[column].unique(), X[column].value_counts())\n",
    "    plt.title(f'{column} distribution')\n",
    "    plt.xlabel('Score')\n",
    "    plt.ylabel('Number of records')\n",
    "plt.show()"
   ]
  },
  {
   "cell_type": "code",
   "execution_count": 7,
   "id": "a3b8ba94",
   "metadata": {
    "ExecuteTime": {
     "end_time": "2023-02-14T21:11:10.843288Z",
     "start_time": "2023-02-14T21:11:10.840367Z"
    }
   },
   "outputs": [],
   "source": [
    "X_train, X_test, y_train, y_test = train_test_split(X, y, test_size=0.2, random_state=40)"
   ]
  },
  {
   "cell_type": "code",
   "execution_count": 8,
   "id": "14fc7d28",
   "metadata": {
    "ExecuteTime": {
     "end_time": "2023-02-14T21:11:10.855635Z",
     "start_time": "2023-02-14T21:11:10.844141Z"
    }
   },
   "outputs": [
    {
     "name": "stdout",
     "output_type": "stream",
     "text": [
      "Training Accuracy:0.55\n",
      "Testing Accuracy:0.6923076923076923\n"
     ]
    }
   ],
   "source": [
    "logreg = LogisticRegression()\n",
    "logreg.fit(X_train, y_train)\n",
    "print(f'Training Accuracy:{logreg.score(X_train, y_train)}')\n",
    "print(f'Testing Accuracy:{logreg.score(X_test, y_test)}')"
   ]
  },
  {
   "cell_type": "markdown",
   "id": "1a9d11a9",
   "metadata": {},
   "source": [
    "With a simple logistic regression model, we get 55% training accuracy and 69% testing accuracy, indicating underfitting of the data. We can either increment the size of the data set which would not be feasible in this case or instead use a more complex model like random forest classifier to tackle the issue."
   ]
  },
  {
   "cell_type": "code",
   "execution_count": 11,
   "id": "7b62bc66",
   "metadata": {
    "ExecuteTime": {
     "end_time": "2023-02-14T21:11:50.024805Z",
     "start_time": "2023-02-14T21:11:49.900064Z"
    }
   },
   "outputs": [
    {
     "name": "stdout",
     "output_type": "stream",
     "text": [
      "Training Accuracy: 0.94\n",
      "Testing Accuracy: 0.6538461538461539\n"
     ]
    }
   ],
   "source": [
    "rf = RandomForestClassifier(random_state=22)\n",
    "rf.fit(X_train, y_train)\n",
    "print(f'Training Accuracy: {rf.score(X_train, y_train)}')\n",
    "print(f'Testing Accuracy: {rf.score(X_test, y_test)}')"
   ]
  },
  {
   "cell_type": "markdown",
   "id": "ef574b7f",
   "metadata": {},
   "source": [
    "The Training accuracy drastically improves with RandomForestClassifier. However, the model seems to be overfitting the training data as it is 30% higher than the testing accuracy. We could tune the hyperparameters to reduce overfitting."
   ]
  },
  {
   "cell_type": "code",
   "execution_count": 24,
   "id": "7e3642e8",
   "metadata": {
    "ExecuteTime": {
     "end_time": "2023-02-14T21:15:14.340823Z",
     "start_time": "2023-02-14T21:15:13.767608Z"
    }
   },
   "outputs": [
    {
     "data": {
      "image/png": "[encoded data removed]",
      "text/plain": [
       "<Figure size 432x288 with 1 Axes>"
      ]
     },
     "metadata": {
      "needs_background": "light"
     },
     "output_type": "display_data"
    }
   ],
   "source": [
    "depths = np.arange(1,12)\n",
    "train_accs = []\n",
    "test_accs = []\n",
    "\n",
    "for depth in depths:\n",
    "    rf = RandomForestClassifier(n_estimators=50, max_depth=depth, min_samples_leaf=2,\n",
    "                                random_state=22)\n",
    "    rf.fit(X_train, y_train)\n",
    "    train_accs.append(rf.score(X_train, y_train))\n",
    "    test_accs.append(rf.score(X_test, y_test))\n",
    "    \n",
    "plt.figure()\n",
    "plt.plot(depths, train_accs, label='Train')\n",
    "plt.plot(depths, test_accs, label='Test')\n",
    "plt.title('Training Accuracy vs Testing Accuracy')\n",
    "plt.xlabel('Max Depth')\n",
    "plt.ylabel('Accuracy')\n",
    "plt.legend()\n",
    "plt.show()"
   ]
  },
  {
   "cell_type": "markdown",
   "id": "5b0b0d58",
   "metadata": {},
   "source": [
    "It seems that the model exhibits the best performance with max_depth set to 4, so that will be the parameter we choose."
   ]
  },
  {
   "cell_type": "code",
   "execution_count": 26,
   "id": "bb567e1c",
   "metadata": {
    "ExecuteTime": {
     "end_time": "2023-02-14T21:15:51.412337Z",
     "start_time": "2023-02-14T21:15:51.325211Z"
    }
   },
   "outputs": [
    {
     "name": "stdout",
     "output_type": "stream",
     "text": [
      "Training Accuracy: 0.74\n",
      "Testing Accuracy: 0.7307692307692307\n"
     ]
    }
   ],
   "source": [
    "rf = RandomForestClassifier(n_estimators=50, max_depth=4, min_samples_leaf=2,\n",
    "                        random_state=22)\n",
    "rf.fit(X_train, y_train)\n",
    "print(f'Training Accuracy: {rf.score(X_train, y_train)}')\n",
    "print(f'Testing Accuracy: {rf.score(X_test, y_test)}')"
   ]
  },
  {
   "cell_type": "markdown",
   "id": "15b016d8",
   "metadata": {},
   "source": [
    "We can now move on the analyzing the importance of the features."
   ]
  },
  {
   "cell_type": "code",
   "execution_count": 33,
   "id": "807d169c",
   "metadata": {
    "ExecuteTime": {
     "end_time": "2023-02-14T21:35:56.243952Z",
     "start_time": "2023-02-14T21:35:56.139177Z"
    }
   },
   "outputs": [
    {
     "data": {
      "image/png": "[encoded data removed]",
      "text/plain": [
       "<Figure size 432x288 with 1 Axes>"
      ]
     },
     "metadata": {
      "needs_background": "light"
     },
     "output_type": "display_data"
    }
   ],
   "source": [
    "plt.figure()\n",
    "plt.bar(X.columns, rf.feature_importances_)\n",
    "plt.xlabel('Features')\n",
    "plt.ylabel('Importance')\n",
    "plt.title('Importance of each feature')\n",
    "plt.show()"
   ]
  },
  {
   "cell_type": "markdown",
   "id": "c9b7bd90",
   "metadata": {},
   "source": [
    "The two features with lowest importance are `X2` and `X4`. We can try removing them from the training and see how does the performance change."
   ]
  },
  {
   "cell_type": "code",
   "execution_count": 39,
   "id": "0b2d8b5d",
   "metadata": {
    "ExecuteTime": {
     "end_time": "2023-02-14T21:43:14.789148Z",
     "start_time": "2023-02-14T21:43:14.698787Z"
    }
   },
   "outputs": [
    {
     "name": "stdout",
     "output_type": "stream",
     "text": [
      "Training Accuracy: 0.82\n",
      "Testing Accuracy: 0.5769230769230769\n"
     ]
    }
   ],
   "source": [
    "X_4_feature = X.drop(['X2', 'X4'], axis=1)\n",
    "X_train_4_feature, X_test_4_feature, y_train, y_test = train_test_split(X_4_feature,\n",
    "                                                y, test_size=0.2, random_state=40)\n",
    "\n",
    "rf_4_feature = RandomForestClassifier(n_estimators=50, max_depth=4, min_samples_leaf=2,\n",
    "                        random_state=22)\n",
    "rf_4_feature.fit(X_train_4_feature, y_train)\n",
    "print(f'Training Accuracy: {rf_4_feature.score(X_train_4_feature, y_train)}')\n",
    "print(f'Testing Accuracy: {rf_4_feature.score(X_test_4_feature, y_test)}')"
   ]
  },
  {
   "cell_type": "markdown",
   "id": "e249452a",
   "metadata": {},
   "source": [
    "After dropping off the least important features, the model starts to overfit the training data again and the performance on the testset drops significantly. However, what if we switch back to the simple logistic regression model?"
   ]
  },
  {
   "cell_type": "code",
   "execution_count": 37,
   "id": "80cf8511",
   "metadata": {
    "ExecuteTime": {
     "end_time": "2023-02-14T21:42:33.470679Z",
     "start_time": "2023-02-14T21:42:33.442556Z"
    }
   },
   "outputs": [
    {
     "name": "stdout",
     "output_type": "stream",
     "text": [
      "Training Accuracy:0.58\n",
      "Testing Accuracy:0.6538461538461539\n"
     ]
    }
   ],
   "source": [
    "logreg_4_feature = LogisticRegression()\n",
    "logreg_4_feature.fit(X_train_4_feature, y_train)\n",
    "print(f'Training Accuracy:{logreg_4_feature.score(X_train_4_feature, y_train)}')\n",
    "print(f'Testing Accuracy:{logreg_4_feature.score(X_test_4_feature, y_test)}')"
   ]
  },
  {
   "cell_type": "markdown",
   "id": "b6a8a54f",
   "metadata": {},
   "source": [
    "We can see that despite the model is still underfitting, dropping the two least important features actually improved the training accuracy without compromising the testing accuracy at all. This might indicate that we can still find a model that is complex enough to still maintain the same level of performance even with less features without over fitting the training set."
   ]
  },
  {
   "cell_type": "code",
   "execution_count": 103,
   "id": "8f370b87",
   "metadata": {
    "ExecuteTime": {
     "end_time": "2023-02-14T21:57:07.865587Z",
     "start_time": "2023-02-14T21:57:07.773270Z"
    }
   },
   "outputs": [
    {
     "name": "stdout",
     "output_type": "stream",
     "text": [
      "Training Accuracy: 0.67\n",
      "Testing Accuracy: 0.6923076923076923\n"
     ]
    }
   ],
   "source": [
    "rf_4_feature = RandomForestClassifier(n_estimators=55, max_depth=2, min_samples_leaf=3,\n",
    "                        random_state=22)\n",
    "rf_4_feature.fit(X_train_4_feature, y_train)\n",
    "print(f'Training Accuracy: {rf_4_feature.score(X_train_4_feature, y_train)}')\n",
    "print(f'Testing Accuracy: {rf_4_feature.score(X_test_4_feature, y_test)}')"
   ]
  },
  {
   "cell_type": "markdown",
   "id": "cb5917f7",
   "metadata": {},
   "source": [
    "It seems that we could potentially remove `X2` and `X4` in the next survey. Which makes sense since customer are most likely to have purchased the product acknowledging what is to expect and the price of the item."
   ]
  }
 ],
 "metadata": {
  "kernelspec": {
   "display_name": "Python 3 (ipykernel)",
   "language": "python",
   "name": "python3"
  },
  "language_info": {
   "codemirror_mode": {
    "name": "ipython",
    "version": 3
   },
   "file_extension": ".py",
   "mimetype": "text/x-python",
   "name": "python",
   "nbconvert_exporter": "python",
   "pygments_lexer": "ipython3",
   "version": "3.9.7"
  },
  "varInspector": {
   "cols": {
    "lenName": 16,
    "lenType": 16,
    "lenVar": 40
   },
   "kernels_config": {
    "python": {
     "delete_cmd_postfix": "",
     "delete_cmd_prefix": "del ",
     "library": "var_list.py",
     "varRefreshCmd": "print(var_dic_list())"
    },
    "r": {
     "delete_cmd_postfix": ") ",
     "delete_cmd_prefix": "rm(",
     "library": "var_list.r",
     "varRefreshCmd": "cat(var_dic_list()) "
    }
   },
   "types_to_exclude": [
    "module",
    "function",
    "builtin_function_or_method",
    "instance",
    "_Feature"
   ],
   "window_display": false
  }
 },
 "nbformat": 4,
 "nbformat_minor": 5
}
