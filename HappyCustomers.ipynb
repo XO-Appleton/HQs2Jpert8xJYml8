{
 "cells": [
  {
   "cell_type": "markdown",
   "id": "89d551e3",
   "metadata": {},
   "source": [
    "# Happy Customer\n",
    "- Author: Yumo Bai\n",
    "- Email: baiym104@gmail.com\n",
    "- Date: Feb 26, 2023"
   ]
  },
  {
   "cell_type": "markdown",
   "id": "71e7b9f4",
   "metadata": {},
   "source": [
    "### Load Packages and Data"
   ]
  },
  {
   "cell_type": "code",
   "execution_count": 1,
   "id": "de435c5d",
   "metadata": {
    "ExecuteTime": {
     "end_time": "2023-02-26T21:00:15.630221Z",
     "start_time": "2023-02-26T21:00:14.344656Z"
    }
   },
   "outputs": [],
   "source": [
    "import numpy as np\n",
    "import pandas as pd\n",
    "import matplotlib.pyplot as plt\n",
    "import seaborn as sns\n",
    "\n",
    "from sklearn.model_selection import cross_val_score\n",
    "from sklearn.linear_model import LogisticRegression\n",
    "from sklearn.svm import SVC\n",
    "from sklearn.neighbors import KNeighborsClassifier\n",
    "from sklearn.tree import DecisionTreeClassifier\n",
    "from sklearn.model_selection import train_test_split\n",
    "from sklearn.ensemble import RandomForestClassifier, AdaBoostClassifier, GradientBoostingClassifier\n",
    "import xgboost as xgb"
   ]
  },
  {
   "cell_type": "code",
   "execution_count": 2,
   "id": "ff3f9d26",
   "metadata": {
    "ExecuteTime": {
     "end_time": "2023-02-26T21:00:15.635604Z",
     "start_time": "2023-02-26T21:00:15.631004Z"
    }
   },
   "outputs": [],
   "source": [
    "df = pd.read_csv('./data/ACME-HappinessSurvey2020.csv')"
   ]
  },
  {
   "cell_type": "markdown",
   "id": "f1b7c1da",
   "metadata": {},
   "source": [
    "### Exploratory Data Analysis"
   ]
  },
  {
   "cell_type": "markdown",
   "id": "fe92d233",
   "metadata": {},
   "source": [
    "We will start with an overview to the dataset."
   ]
  },
  {
   "cell_type": "code",
   "execution_count": 3,
   "id": "12065236",
   "metadata": {
    "ExecuteTime": {
     "end_time": "2023-02-26T21:00:15.646711Z",
     "start_time": "2023-02-26T21:00:15.638163Z"
    }
   },
   "outputs": [
    {
     "data": {
      "text/html": [
       "<div>\n",
       "<style scoped>\n",
       "    .dataframe tbody tr th:only-of-type {\n",
       "        vertical-align: middle;\n",
       "    }\n",
       "\n",
       "    .dataframe tbody tr th {\n",
       "        vertical-align: top;\n",
       "    }\n",
       "\n",
       "    .dataframe thead th {\n",
       "        text-align: right;\n",
       "    }\n",
       "</style>\n",
       "<table border=\"1\" class=\"dataframe\">\n",
       "  <thead>\n",
       "    <tr style=\"text-align: right;\">\n",
       "      <th></th>\n",
       "      <th>Y</th>\n",
       "      <th>X1</th>\n",
       "      <th>X2</th>\n",
       "      <th>X3</th>\n",
       "      <th>X4</th>\n",
       "      <th>X5</th>\n",
       "      <th>X6</th>\n",
       "    </tr>\n",
       "  </thead>\n",
       "  <tbody>\n",
       "    <tr>\n",
       "      <th>0</th>\n",
       "      <td>0</td>\n",
       "      <td>3</td>\n",
       "      <td>3</td>\n",
       "      <td>3</td>\n",
       "      <td>4</td>\n",
       "      <td>2</td>\n",
       "      <td>4</td>\n",
       "    </tr>\n",
       "    <tr>\n",
       "      <th>1</th>\n",
       "      <td>0</td>\n",
       "      <td>3</td>\n",
       "      <td>2</td>\n",
       "      <td>3</td>\n",
       "      <td>5</td>\n",
       "      <td>4</td>\n",
       "      <td>3</td>\n",
       "    </tr>\n",
       "    <tr>\n",
       "      <th>2</th>\n",
       "      <td>1</td>\n",
       "      <td>5</td>\n",
       "      <td>3</td>\n",
       "      <td>3</td>\n",
       "      <td>3</td>\n",
       "      <td>3</td>\n",
       "      <td>5</td>\n",
       "    </tr>\n",
       "    <tr>\n",
       "      <th>3</th>\n",
       "      <td>0</td>\n",
       "      <td>5</td>\n",
       "      <td>4</td>\n",
       "      <td>3</td>\n",
       "      <td>3</td>\n",
       "      <td>3</td>\n",
       "      <td>5</td>\n",
       "    </tr>\n",
       "    <tr>\n",
       "      <th>4</th>\n",
       "      <td>0</td>\n",
       "      <td>5</td>\n",
       "      <td>4</td>\n",
       "      <td>3</td>\n",
       "      <td>3</td>\n",
       "      <td>3</td>\n",
       "      <td>5</td>\n",
       "    </tr>\n",
       "  </tbody>\n",
       "</table>\n",
       "</div>"
      ],
      "text/plain": [
       "   Y  X1  X2  X3  X4  X5  X6\n",
       "0  0   3   3   3   4   2   4\n",
       "1  0   3   2   3   5   4   3\n",
       "2  1   5   3   3   3   3   5\n",
       "3  0   5   4   3   3   3   5\n",
       "4  0   5   4   3   3   3   5"
      ]
     },
     "execution_count": 3,
     "metadata": {},
     "output_type": "execute_result"
    }
   ],
   "source": [
    "df.head()"
   ]
  },
  {
   "cell_type": "code",
   "execution_count": 4,
   "id": "2c05f4bc",
   "metadata": {
    "ExecuteTime": {
     "end_time": "2023-02-26T21:00:15.653860Z",
     "start_time": "2023-02-26T21:00:15.647582Z"
    }
   },
   "outputs": [
    {
     "name": "stdout",
     "output_type": "stream",
     "text": [
      "<class 'pandas.core.frame.DataFrame'>\n",
      "RangeIndex: 126 entries, 0 to 125\n",
      "Data columns (total 7 columns):\n",
      " #   Column  Non-Null Count  Dtype\n",
      "---  ------  --------------  -----\n",
      " 0   Y       126 non-null    int64\n",
      " 1   X1      126 non-null    int64\n",
      " 2   X2      126 non-null    int64\n",
      " 3   X3      126 non-null    int64\n",
      " 4   X4      126 non-null    int64\n",
      " 5   X5      126 non-null    int64\n",
      " 6   X6      126 non-null    int64\n",
      "dtypes: int64(7)\n",
      "memory usage: 7.0 KB\n"
     ]
    }
   ],
   "source": [
    "df.info()"
   ]
  },
  {
   "cell_type": "markdown",
   "id": "872e30fb",
   "metadata": {},
   "source": [
    "The dataset contains 126 entries and there seem to be no missing data. The target variable is `Y`, let's take a look at it's distribution."
   ]
  },
  {
   "cell_type": "code",
   "execution_count": 5,
   "id": "2346a64a",
   "metadata": {
    "ExecuteTime": {
     "end_time": "2023-02-26T21:00:15.734629Z",
     "start_time": "2023-02-26T21:00:15.654655Z"
    }
   },
   "outputs": [
    {
     "data": {
      "image/png": "[encoded data removed]",
      "text/plain": [
       "<Figure size 432x288 with 1 Axes>"
      ]
     },
     "metadata": {
      "needs_background": "light"
     },
     "output_type": "display_data"
    }
   ],
   "source": [
    "df['Y'].value_counts().plot(kind='bar', xlabel='classes', ylabel='number of occurance',\n",
    "                            title='Distribution of classes')\n",
    "plt.show()"
   ]
  },
  {
   "cell_type": "markdown",
   "id": "a2e43334",
   "metadata": {},
   "source": [
    "The classes appear to be balanced. So there should be no additional cleaning and upsampling/downsampling required. Let's now take a look at the distribution of the features."
   ]
  },
  {
   "cell_type": "code",
   "execution_count": 6,
   "id": "67db2068",
   "metadata": {
    "ExecuteTime": {
     "end_time": "2023-02-26T21:00:16.093518Z",
     "start_time": "2023-02-26T21:00:15.735741Z"
    },
    "scrolled": true
   },
   "outputs": [
    {
     "data": {
      "image/png": "[encoded data removed]",
      "text/plain": [
       "<Figure size 432x288 with 1 Axes>"
      ]
     },
     "metadata": {
      "needs_background": "light"
     },
     "output_type": "display_data"
    },
    {
     "data": {
      "image/png": "[encoded data removed]",
      "text/plain": [
       "<Figure size 432x288 with 1 Axes>"
      ]
     },
     "metadata": {
      "needs_background": "light"
     },
     "output_type": "display_data"
    },
    {
     "data": {
      "image/png": "[encoded data removed]",
      "text/plain": [
       "<Figure size 432x288 with 1 Axes>"
      ]
     },
     "metadata": {
      "needs_background": "light"
     },
     "output_type": "display_data"
    },
    {
     "data": {
      "image/png": "[encoded data removed]",
      "text/plain": [
       "<Figure size 432x288 with 1 Axes>"
      ]
     },
     "metadata": {
      "needs_background": "light"
     },
     "output_type": "display_data"
    },
    {
     "data": {
      "image/png": "[encoded data removed]",
      "text/plain": [
       "<Figure size 432x288 with 1 Axes>"
      ]
     },
     "metadata": {
      "needs_background": "light"
     },
     "output_type": "display_data"
    },
    {
     "data": {
      "image/png": "[encoded data removed]",
      "text/plain": [
       "<Figure size 432x288 with 1 Axes>"
      ]
     },
     "metadata": {
      "needs_background": "light"
     },
     "output_type": "display_data"
    }
   ],
   "source": [
    "X = df.drop('Y', axis=1)\n",
    "y = df['Y']\n",
    "\n",
    "for column in X.columns:\n",
    "    plt.figure()\n",
    "    plt.bar(X[column].unique(), X[column].value_counts())\n",
    "    plt.title(f'{column} distribution')\n",
    "    plt.xlabel('Score')\n",
    "    plt.ylabel('Number of records')\n",
    "plt.show()"
   ]
  },
  {
   "cell_type": "markdown",
   "id": "acc6c2fc",
   "metadata": {},
   "source": [
    "It seems that `X2` and `X3` follow a more normal distribution. `X1`, `X4` and `X6` are all right-skewed whereas `X5` seem to have a more random distribution. We can check if any of these features are correlated by calculating the correlation matrix."
   ]
  },
  {
   "cell_type": "code",
   "execution_count": 7,
   "id": "0002d924",
   "metadata": {
    "ExecuteTime": {
     "end_time": "2023-02-26T21:00:16.205815Z",
     "start_time": "2023-02-26T21:00:16.094669Z"
    }
   },
   "outputs": [
    {
     "data": {
      "image/png": "[encoded data removed]",
      "text/plain": [
       "<Figure size 360x360 with 2 Axes>"
      ]
     },
     "metadata": {
      "needs_background": "light"
     },
     "output_type": "display_data"
    }
   ],
   "source": [
    "corr_df = X.corr()\n",
    "\n",
    "# mask\n",
    "mask = np.triu(corr_df)\n",
    "\n",
    "# heatmap\n",
    "plt.figure(figsize=(5, 5))\n",
    "sns.heatmap(corr_df.round(2), vmax=1, vmin=-1, center=0, annot=True, mask=mask, cmap='coolwarm')\n",
    "plt.show()"
   ]
  },
  {
   "cell_type": "markdown",
   "id": "e680a5ac",
   "metadata": {},
   "source": [
    "It appears that `X1` has the highest correlation with `X5` and `X6`. However, there is not a sign of strong correlation between any of the features. So for now we will proceed to build a model with all of the features present."
   ]
  },
  {
   "cell_type": "markdown",
   "id": "2b73cb9c",
   "metadata": {},
   "source": [
    "### Modeling"
   ]
  },
  {
   "cell_type": "code",
   "execution_count": 8,
   "id": "a3b8ba94",
   "metadata": {
    "ExecuteTime": {
     "end_time": "2023-02-26T21:00:16.209712Z",
     "start_time": "2023-02-26T21:00:16.206762Z"
    }
   },
   "outputs": [],
   "source": [
    "X_train, X_test, y_train, y_test = train_test_split(X, y, test_size=0.2, random_state=40)"
   ]
  },
  {
   "cell_type": "code",
   "execution_count": 9,
   "id": "14fc7d28",
   "metadata": {
    "ExecuteTime": {
     "end_time": "2023-02-26T21:00:16.224339Z",
     "start_time": "2023-02-26T21:00:16.212455Z"
    }
   },
   "outputs": [
    {
     "name": "stdout",
     "output_type": "stream",
     "text": [
      "LR Training Accuracy:0.55\n",
      "LR Testing Accuracy:0.6923076923076923\n"
     ]
    }
   ],
   "source": [
    "logreg = LogisticRegression(random_state=22)\n",
    "logreg.fit(X_train, y_train)\n",
    "print(f'LR Training Accuracy:{logreg.score(X_train, y_train)}')\n",
    "print(f'LR Testing Accuracy:{logreg.score(X_test, y_test)}')"
   ]
  },
  {
   "cell_type": "markdown",
   "id": "82ff6816",
   "metadata": {},
   "source": [
    "With a simple logistic regression model, we get 55% training accuracy and 69% testing accuracy, indicating underfitting of the data. We can either increment the size of the data set which would not be feasible in this case or instead use models with higher complexity to tackle the issue."
   ]
  },
  {
   "cell_type": "code",
   "execution_count": 10,
   "id": "edb17e80",
   "metadata": {
    "ExecuteTime": {
     "end_time": "2023-02-26T21:00:16.232856Z",
     "start_time": "2023-02-26T21:00:16.225244Z"
    }
   },
   "outputs": [
    {
     "name": "stdout",
     "output_type": "stream",
     "text": [
      "SVM Training Accuracy:0.72\n",
      "SVM Testing Accuracy:0.5769230769230769\n"
     ]
    }
   ],
   "source": [
    "svm = SVC(random_state=22)\n",
    "svm.fit(X_train, y_train)\n",
    "print(f'SVM Training Accuracy:{svm.score(X_train, y_train)}')\n",
    "print(f'SVM Testing Accuracy:{svm.score(X_test, y_test)}')"
   ]
  },
  {
   "cell_type": "code",
   "execution_count": 11,
   "id": "aaf48d75",
   "metadata": {
    "ExecuteTime": {
     "end_time": "2023-02-26T21:00:16.241400Z",
     "start_time": "2023-02-26T21:00:16.234119Z"
    }
   },
   "outputs": [
    {
     "name": "stdout",
     "output_type": "stream",
     "text": [
      "DT Training Accuracy:0.75\n",
      "DT Testing Accuracy:0.6538461538461539\n"
     ]
    }
   ],
   "source": [
    "dt = DecisionTreeClassifier(max_depth=4, random_state=22)\n",
    "dt.fit(X_train, y_train)\n",
    "print(f'DT Training Accuracy:{dt.score(X_train, y_train)}')\n",
    "print(f'DT Testing Accuracy:{dt.score(X_test, y_test)}')"
   ]
  },
  {
   "cell_type": "code",
   "execution_count": 12,
   "id": "4e3d6a87",
   "metadata": {
    "ExecuteTime": {
     "end_time": "2023-02-26T21:00:16.252419Z",
     "start_time": "2023-02-26T21:00:16.242232Z"
    }
   },
   "outputs": [
    {
     "name": "stdout",
     "output_type": "stream",
     "text": [
      "KNN Training Accuracy:0.7\n",
      "KNN Testing Accuracy:0.6153846153846154\n"
     ]
    }
   ],
   "source": [
    "knn = KNeighborsClassifier(n_neighbors=5)\n",
    "knn.fit(X_train, y_train)\n",
    "print(f'KNN Training Accuracy:{knn.score(X_train, y_train)}')\n",
    "print(f'KNN Testing Accuracy:{knn.score(X_test, y_test)}')"
   ]
  },
  {
   "cell_type": "markdown",
   "id": "ba6b5ff2",
   "metadata": {},
   "source": [
    "More complex models such as SVM, Decision Tree and KNN Classifiers give us satisfactory accuracy on the Training set. However, they seem to be overfitting the training set as their performance on the testing set is much worse. \n",
    "\n",
    "Noticeably, for this particular training and testing set, a KNN classifier with `n_neighbors=6` has a reasonably good performance which could just be a result of the randomization:"
   ]
  },
  {
   "cell_type": "code",
   "execution_count": 37,
   "id": "e7a76159",
   "metadata": {
    "ExecuteTime": {
     "end_time": "2023-02-26T21:01:12.111078Z",
     "start_time": "2023-02-26T21:01:12.085000Z"
    }
   },
   "outputs": [
    {
     "name": "stdout",
     "output_type": "stream",
     "text": [
      "KNN Training Accuracy:0.69\n",
      "KNN Testing Accuracy:0.7307692307692307\n"
     ]
    }
   ],
   "source": [
    "knn = KNeighborsClassifier(n_neighbors=6)\n",
    "knn.fit(X_train, y_train)\n",
    "print(f'KNN Training Accuracy:{knn.score(X_train, y_train)}')\n",
    "print(f'KNN Testing Accuracy:{knn.score(X_test, y_test)}')"
   ]
  },
  {
   "cell_type": "markdown",
   "id": "f690e0b3",
   "metadata": {},
   "source": [
    "We could also try out some ensembled models."
   ]
  },
  {
   "cell_type": "code",
   "execution_count": 14,
   "id": "7b62bc66",
   "metadata": {
    "ExecuteTime": {
     "end_time": "2023-02-26T21:00:16.347495Z",
     "start_time": "2023-02-26T21:00:16.263063Z"
    }
   },
   "outputs": [
    {
     "name": "stdout",
     "output_type": "stream",
     "text": [
      "RF Training Accuracy: 0.94\n",
      "RF Testing Accuracy: 0.6538461538461539\n"
     ]
    }
   ],
   "source": [
    "rf = RandomForestClassifier(random_state=22)\n",
    "rf.fit(X_train, y_train)\n",
    "print(f'RF Training Accuracy: {rf.score(X_train, y_train)}')\n",
    "print(f'RF Testing Accuracy: {rf.score(X_test, y_test)}')"
   ]
  },
  {
   "cell_type": "code",
   "execution_count": 15,
   "id": "df3a9ddc",
   "metadata": {
    "ExecuteTime": {
     "end_time": "2023-02-26T21:00:16.392254Z",
     "start_time": "2023-02-26T21:00:16.348386Z"
    }
   },
   "outputs": [
    {
     "name": "stdout",
     "output_type": "stream",
     "text": [
      "Ada Training Accuracy: 0.67\n",
      "Ada Testing Accuracy: 0.6538461538461539\n"
     ]
    }
   ],
   "source": [
    "ada = AdaBoostClassifier(random_state=22)\n",
    "ada.fit(X_train, y_train)\n",
    "print(f'Ada Training Accuracy: {ada.score(X_train, y_train)}')\n",
    "print(f'Ada Testing Accuracy: {ada.score(X_test, y_test)}')"
   ]
  },
  {
   "cell_type": "code",
   "execution_count": 16,
   "id": "1c50433d",
   "metadata": {
    "ExecuteTime": {
     "end_time": "2023-02-26T21:00:16.425000Z",
     "start_time": "2023-02-26T21:00:16.393263Z"
    }
   },
   "outputs": [
    {
     "name": "stdout",
     "output_type": "stream",
     "text": [
      "GDB Training Accuracy: 0.91\n",
      "GDB Testing Accuracy: 0.5\n"
     ]
    }
   ],
   "source": [
    "gdb = GradientBoostingClassifier(random_state=22)\n",
    "gdb.fit(X_train, y_train)\n",
    "print(f'GDB Training Accuracy: {gdb.score(X_train, y_train)}')\n",
    "print(f'GDB Testing Accuracy: {gdb.score(X_test, y_test)}')"
   ]
  },
  {
   "cell_type": "code",
   "execution_count": 17,
   "id": "e8c444d0",
   "metadata": {
    "ExecuteTime": {
     "end_time": "2023-02-26T21:00:16.468235Z",
     "start_time": "2023-02-26T21:00:16.425901Z"
    }
   },
   "outputs": [
    {
     "name": "stdout",
     "output_type": "stream",
     "text": [
      "XGB Training Accuracy: 0.93\n",
      "XGB Testing Accuracy: 0.5384615384615384\n"
     ]
    }
   ],
   "source": [
    "xgb_model = xgb.XGBClassifier()\n",
    "xgb_model.fit(X_train, y_train)\n",
    "print(f'XGB Training Accuracy: {xgb_model.score(X_train, y_train)}')\n",
    "print(f'XGB Testing Accuracy: {xgb_model.score(X_test, y_test)}')"
   ]
  },
  {
   "cell_type": "markdown",
   "id": "ef574b7f",
   "metadata": {},
   "source": [
    "Out of all the ensembled models, AdaBoostClassifier seem to be the only one with a balanced bias-variance trade-off as its training and testing accuracy are only separated by around 1.7%. Random Forest Classifier gave an over all highest score with a 94% accuracy training accuracy and 65.4% testing accuracy. However, this also indicates that the model is significantly overfitting the training data. We could further improve the model by tuning its hyperparameters with the cross-validation method."
   ]
  },
  {
   "cell_type": "code",
   "execution_count": 18,
   "id": "7e3642e8",
   "metadata": {
    "ExecuteTime": {
     "end_time": "2023-02-26T21:00:21.211791Z",
     "start_time": "2023-02-26T21:00:16.469409Z"
    }
   },
   "outputs": [
    {
     "data": {
      "image/png": "[encoded data removed]",
      "text/plain": [
       "<Figure size 432x288 with 1 Axes>"
      ]
     },
     "metadata": {
      "needs_background": "light"
     },
     "output_type": "display_data"
    }
   ],
   "source": [
    "depths = np.arange(1,12)\n",
    "cv_scores = []\n",
    "training_scores = []\n",
    "\n",
    "for depth in depths:\n",
    "    rf = RandomForestClassifier(max_depth=depth, random_state=22)\n",
    "    cv_scores.append(np.mean(cross_val_score(rf, X_train, y_train, cv=5)))\n",
    "    rf.fit(X_train, y_train)\n",
    "    training_scores.append(rf.score(X_train, y_train))\n",
    "    \n",
    "plt.figure()\n",
    "plt.plot(depths, cv_scores, label='cv_score')\n",
    "plt.plot(depths, training_scores, label='train_score')\n",
    "plt.title('RF Max depth vs score')\n",
    "plt.xlabel('Max Depth')\n",
    "plt.ylabel('Accuracy')\n",
    "plt.grid()\n",
    "plt.legend()\n",
    "plt.show()"
   ]
  },
  {
   "cell_type": "markdown",
   "id": "b517c990",
   "metadata": {},
   "source": [
    "The model minimizes the gap between training and testing score with max depth of 4. Similarly, we could also change the `n_estimator` and `min_sample_leaf`."
   ]
  },
  {
   "cell_type": "code",
   "execution_count": 19,
   "id": "7d13b91c",
   "metadata": {
    "ExecuteTime": {
     "end_time": "2023-02-26T21:00:26.133067Z",
     "start_time": "2023-02-26T21:00:21.212506Z"
    }
   },
   "outputs": [
    {
     "data": {
      "image/png": "[encoded data removed]",
      "text/plain": [
       "<Figure size 432x288 with 1 Axes>"
      ]
     },
     "metadata": {
      "needs_background": "light"
     },
     "output_type": "display_data"
    }
   ],
   "source": [
    "ns = [10,30,50,100,200,300,500]\n",
    "cv_scores = []\n",
    "training_scores = []\n",
    "\n",
    "for n in ns:\n",
    "    rf = RandomForestClassifier(n_estimators=n, max_depth=4, random_state=22)\n",
    "    cv_scores.append(np.mean(cross_val_score(rf, X_train, y_train, cv=5)))\n",
    "    rf.fit(X_train, y_train)\n",
    "    training_scores.append(rf.score(X_train, y_train))\n",
    "    \n",
    "plt.figure()\n",
    "plt.plot(ns, cv_scores, label='cv_score')\n",
    "plt.plot(ns, training_scores, label='train_score')\n",
    "plt.title('RF Num of estimators vs score')\n",
    "plt.xlabel('n_estimators')\n",
    "plt.ylabel('Accuracy')\n",
    "plt.grid()\n",
    "plt.legend()\n",
    "plt.show()"
   ]
  },
  {
   "cell_type": "code",
   "execution_count": 20,
   "id": "998d7f0d",
   "metadata": {
    "ExecuteTime": {
     "end_time": "2023-02-26T21:00:27.716845Z",
     "start_time": "2023-02-26T21:00:26.134048Z"
    }
   },
   "outputs": [
    {
     "data": {
      "image/png": "[encoded data removed]",
      "text/plain": [
       "<Figure size 432x288 with 1 Axes>"
      ]
     },
     "metadata": {
      "needs_background": "light"
     },
     "output_type": "display_data"
    }
   ],
   "source": [
    "msls = np.arange(1,8)\n",
    "cv_scores = []\n",
    "training_scores = []\n",
    "\n",
    "for msl in msls:\n",
    "    rf = RandomForestClassifier(n_estimators=50, max_depth=4, min_samples_leaf=msl,\n",
    "                                random_state=22)\n",
    "    cv_scores.append(np.mean(cross_val_score(rf, X_train, y_train, cv=5)))\n",
    "    rf.fit(X_train, y_train)\n",
    "    training_scores.append(rf.score(X_train, y_train))\n",
    "    \n",
    "plt.figure()\n",
    "plt.plot(msls, cv_scores, label='cv_score')\n",
    "plt.plot(msls, training_scores, label='train_score')\n",
    "plt.title('RF min_sample_leaf vs score')\n",
    "plt.xlabel('min_sample_leaf')\n",
    "plt.ylabel('Accuracy')\n",
    "plt.grid()\n",
    "plt.legend()\n",
    "plt.show()"
   ]
  },
  {
   "cell_type": "markdown",
   "id": "5b0b0d58",
   "metadata": {},
   "source": [
    "And we examine the model with the tuned parameters."
   ]
  },
  {
   "cell_type": "code",
   "execution_count": 21,
   "id": "bb567e1c",
   "metadata": {
    "ExecuteTime": {
     "end_time": "2023-02-26T21:00:27.763458Z",
     "start_time": "2023-02-26T21:00:27.717696Z"
    }
   },
   "outputs": [
    {
     "name": "stdout",
     "output_type": "stream",
     "text": [
      "Tuned RF Training Accuracy: 0.8\n",
      "Tuned RF Testing Accuracy: 0.7307692307692307\n"
     ]
    }
   ],
   "source": [
    "rf = RandomForestClassifier(n_estimators=50, max_depth=4, min_samples_leaf=1,\n",
    "                        random_state=22)\n",
    "rf.fit(X_train, y_train)\n",
    "print(f'Tuned RF Training Accuracy: {rf.score(X_train, y_train)}')\n",
    "print(f'Tuned RF Testing Accuracy: {rf.score(X_test, y_test)}')"
   ]
  },
  {
   "cell_type": "markdown",
   "id": "85f5407d",
   "metadata": {},
   "source": [
    "The tuned RF model gives 80% training accuracy and 73.07% testing accuracy. Which is still overfitting the training data slightly. If we increase the `min_samples_leaf` to reduce the overfitting, we actually see a testing accuracy of 73.07% with `min_samples_leaf=2` with much lower training accuracy at 74%."
   ]
  },
  {
   "cell_type": "code",
   "execution_count": 22,
   "id": "f4acc0e7",
   "metadata": {
    "ExecuteTime": {
     "end_time": "2023-02-26T21:00:27.808235Z",
     "start_time": "2023-02-26T21:00:27.764415Z"
    }
   },
   "outputs": [
    {
     "name": "stdout",
     "output_type": "stream",
     "text": [
      "Tuned RF Training Accuracy: 0.74\n",
      "Tuned RF Testing Accuracy: 0.7307692307692307\n"
     ]
    }
   ],
   "source": [
    "rf = RandomForestClassifier(n_estimators=50, max_depth=4, min_samples_leaf=2,\n",
    "                        random_state=22)\n",
    "rf.fit(X_train, y_train)\n",
    "print(f'Tuned RF Training Accuracy: {rf.score(X_train, y_train)}')\n",
    "print(f'Tuned RF Testing Accuracy: {rf.score(X_test, y_test)}')"
   ]
  },
  {
   "cell_type": "markdown",
   "id": "577b1a64",
   "metadata": {},
   "source": [
    "It looks like a huge improvement from the model that we came up with. However, we cannot be sure that this model is better as the dataset is small and it could just be a result of randomization.\n",
    "\n",
    "XGBoost also performed excellently on the training set, using the same methodology, we can see if it is possible to get a better model by tuning its hyperparameters."
   ]
  },
  {
   "cell_type": "code",
   "execution_count": 23,
   "id": "61c3a9c8",
   "metadata": {
    "ExecuteTime": {
     "end_time": "2023-02-26T21:00:29.741938Z",
     "start_time": "2023-02-26T21:00:27.809269Z"
    }
   },
   "outputs": [
    {
     "data": {
      "image/png": "[encoded data removed]",
      "text/plain": [
       "<Figure size 432x288 with 1 Axes>"
      ]
     },
     "metadata": {
      "needs_background": "light"
     },
     "output_type": "display_data"
    }
   ],
   "source": [
    "depths = np.arange(1,12)\n",
    "cv_scores = []\n",
    "training_scores = []\n",
    "\n",
    "for depth in depths:\n",
    "    xgb_model = xgb.XGBClassifier(max_depth=depth, random_state=22)\n",
    "    cv_scores.append(np.mean(cross_val_score(xgb_model, X_train, y_train, cv=5)))\n",
    "    xgb_model.fit(X_train, y_train)\n",
    "    training_scores.append(xgb_model.score(X_train, y_train))\n",
    "    \n",
    "plt.figure()\n",
    "plt.plot(depths, cv_scores, label='cv_score')\n",
    "plt.plot(depths, training_scores, label='train_score')\n",
    "plt.title('XGB Max depth vs score')\n",
    "plt.xlabel('Max Depth')\n",
    "plt.ylabel('Accuracy')\n",
    "plt.grid()\n",
    "plt.legend()\n",
    "plt.show()"
   ]
  },
  {
   "cell_type": "code",
   "execution_count": 24,
   "id": "eba5bfba",
   "metadata": {
    "ExecuteTime": {
     "end_time": "2023-02-26T21:00:31.376916Z",
     "start_time": "2023-02-26T21:00:29.743241Z"
    }
   },
   "outputs": [
    {
     "data": {
      "image/png": "[encoded data removed]",
      "text/plain": [
       "<Figure size 432x288 with 1 Axes>"
      ]
     },
     "metadata": {
      "needs_background": "light"
     },
     "output_type": "display_data"
    }
   ],
   "source": [
    "ns = [10,30,50,100,200,300,500]\n",
    "cv_scores = []\n",
    "training_scores = []\n",
    "\n",
    "for n in ns:\n",
    "    xgb_model = xgb.XGBClassifier(n_estimators=n, max_depth=2, random_state=22)\n",
    "    cv_scores.append(np.mean(cross_val_score(xgb_model, X_train, y_train, cv=5)))\n",
    "    xgb_model.fit(X_train, y_train)\n",
    "    training_scores.append(xgb_model.score(X_train, y_train))\n",
    "    \n",
    "plt.figure()\n",
    "plt.plot(ns, cv_scores, label='cv_score')\n",
    "plt.plot(ns, training_scores, label='train_score')\n",
    "plt.title('XGB num of estimators vs score')\n",
    "plt.xlabel('n_estimators')\n",
    "plt.ylabel('Accuracy')\n",
    "plt.grid()\n",
    "plt.legend()\n",
    "plt.show()"
   ]
  },
  {
   "cell_type": "code",
   "execution_count": 25,
   "id": "7a280fa1",
   "metadata": {
    "ExecuteTime": {
     "end_time": "2023-02-26T21:00:33.104170Z",
     "start_time": "2023-02-26T21:00:31.377936Z"
    }
   },
   "outputs": [
    {
     "data": {
      "image/png": "[encoded data removed]",
      "text/plain": [
       "<Figure size 432x288 with 1 Axes>"
      ]
     },
     "metadata": {
      "needs_background": "light"
     },
     "output_type": "display_data"
    }
   ],
   "source": [
    "# We tune the learning rate instead of min_samples_leaf for XGBoost\n",
    "lrs = [0.001, 0.01, 0.1, 0.3, 0.5, 1]\n",
    "cv_scores = []\n",
    "training_scores = []\n",
    "\n",
    "for lr in lrs:\n",
    "    xgb_model = xgb.XGBClassifier(n_estimators=200, max_depth=2, \n",
    "                                  learning_rate=lr,\n",
    "                                  random_state=22)\n",
    "    cv_scores.append(np.mean(cross_val_score(xgb_model, X_train, y_train, cv=5)))\n",
    "    xgb_model.fit(X_train, y_train)\n",
    "    training_scores.append(xgb_model.score(X_train, y_train))\n",
    "    \n",
    "plt.figure()\n",
    "plt.plot(lrs, cv_scores, label='cv_score')\n",
    "plt.plot(lrs, training_scores, label='train_score')\n",
    "plt.title('XGB Learning Rate vs score')\n",
    "plt.xlabel('Learning Rate')\n",
    "plt.ylabel('Accuracy')\n",
    "plt.xscale('log')\n",
    "plt.grid()\n",
    "plt.legend()\n",
    "plt.show()"
   ]
  },
  {
   "cell_type": "code",
   "execution_count": 26,
   "id": "336b3010",
   "metadata": {
    "ExecuteTime": {
     "end_time": "2023-02-26T21:00:33.156123Z",
     "start_time": "2023-02-26T21:00:33.105027Z"
    }
   },
   "outputs": [
    {
     "name": "stdout",
     "output_type": "stream",
     "text": [
      "Tuned XGB Training Accuracy: 0.85\n",
      "Tuned XGB Testing Accuracy: 0.5384615384615384\n"
     ]
    }
   ],
   "source": [
    "xgb_model = xgb.XGBClassifier(n_estimators=200, max_depth=2, \n",
    "                                  learning_rate=0.3,\n",
    "                                  random_state=22)\n",
    "xgb_model.fit(X_train, y_train)\n",
    "print(f'Tuned XGB Training Accuracy: {xgb_model.score(X_train, y_train)}')\n",
    "print(f'Tuned XGB Testing Accuracy: {xgb_model.score(X_test, y_test)}')"
   ]
  },
  {
   "cell_type": "markdown",
   "id": "f937a207",
   "metadata": {},
   "source": [
    "Despite tuning, We could not reduce the overfitting issue with XGBoost as the final model has 85% accuracy on the training set but only 54% on the testing set. So we will finalize our model with the tuned Random Forest Classifier.\n",
    "\n",
    "We can now move on the analyzing the importance of the features."
   ]
  },
  {
   "cell_type": "markdown",
   "id": "da943daf",
   "metadata": {},
   "source": [
    "### Feature Selection"
   ]
  },
  {
   "cell_type": "markdown",
   "id": "cab78db2",
   "metadata": {},
   "source": [
    "From the correlation matrix that we calculated earlier, we see that `X1` has a relatively higher correlation with both `X5` and `X6`, how would it affect our model if we remove it from the features? "
   ]
  },
  {
   "cell_type": "code",
   "execution_count": 50,
   "id": "724edac7",
   "metadata": {
    "ExecuteTime": {
     "end_time": "2023-02-26T21:14:01.572939Z",
     "start_time": "2023-02-26T21:14:01.484864Z"
    }
   },
   "outputs": [
    {
     "name": "stdout",
     "output_type": "stream",
     "text": [
      "Training Accuracy: 0.75\n",
      "Testing Accuracy: 0.5769230769230769\n"
     ]
    }
   ],
   "source": [
    "# Remove X1 from the dataset\n",
    "X_5_feature = X.drop(['X1'], axis=1)\n",
    "X_train_5_feature, X_test_5_feature, y_train, y_test = train_test_split(X_5_feature,\n",
    "                                                y, test_size=0.2, random_state=40)\n",
    "\n",
    "# Reinstantiate and train a 5-feature RF model on the new dataset\n",
    "rf_5_feature = RandomForestClassifier(n_estimators=50, max_depth=4, min_samples_leaf=1,\n",
    "                        random_state=22)\n",
    "rf_5_feature.fit(X_train_5_feature, y_train)\n",
    "print(f'Training Accuracy: {rf_5_feature.score(X_train_5_feature, y_train)}')\n",
    "print(f'Testing Accuracy: {rf_5_feature.score(X_test_5_feature, y_test)}')"
   ]
  },
  {
   "cell_type": "markdown",
   "id": "21fc7855",
   "metadata": {},
   "source": [
    "The training accuracy of the model dropped from 80% to 75% whereas the testing accuracy dropped significantly from 73.07% to 57.7%. As we removed a feature from the dataset, the model with the same level of complexity would tend to overfit the training set, so we should also simplify the model a bit."
   ]
  },
  {
   "cell_type": "code",
   "execution_count": 61,
   "id": "d0815e60",
   "metadata": {
    "ExecuteTime": {
     "end_time": "2023-02-26T21:17:13.868578Z",
     "start_time": "2023-02-26T21:17:13.786148Z"
    }
   },
   "outputs": [
    {
     "name": "stdout",
     "output_type": "stream",
     "text": [
      "Training Accuracy: 0.68\n",
      "Testing Accuracy: 0.6538461538461539\n"
     ]
    }
   ],
   "source": [
    "rf_5_feature = RandomForestClassifier(n_estimators=50, max_depth=3, min_samples_leaf=2,\n",
    "                        random_state=22)\n",
    "rf_5_feature.fit(X_train_5_feature, y_train)\n",
    "print(f'Training Accuracy: {rf_5_feature.score(X_train_5_feature, y_train)}')\n",
    "print(f'Testing Accuracy: {rf_5_feature.score(X_test_5_feature, y_test)}')"
   ]
  },
  {
   "cell_type": "markdown",
   "id": "8b88b102",
   "metadata": {},
   "source": [
    "Even as we do so, the accuracy still suffers quite a bit as the best testing accuracy we could achieve is around 65%. So it seems that `X1` cannot be removed.\n",
    "\n",
    "Instead, we could utilize the `feature_importance_` attribute of our previous model to see what features does it consider to be less important."
   ]
  },
  {
   "cell_type": "code",
   "execution_count": 62,
   "id": "807d169c",
   "metadata": {
    "ExecuteTime": {
     "end_time": "2023-02-26T21:19:54.373624Z",
     "start_time": "2023-02-26T21:19:54.269030Z"
    }
   },
   "outputs": [
    {
     "data": {
      "image/png": "[encoded data removed]",
      "text/plain": [
       "<Figure size 432x288 with 1 Axes>"
      ]
     },
     "metadata": {
      "needs_background": "light"
     },
     "output_type": "display_data"
    }
   ],
   "source": [
    "# Plot the feature importance of the tuned RF model\n",
    "plt.figure()\n",
    "plt.bar(X.columns, rf.feature_importances_)\n",
    "plt.xlabel('Features')\n",
    "plt.ylabel('Importance')\n",
    "plt.title('Importance of each feature')\n",
    "plt.show()"
   ]
  },
  {
   "cell_type": "markdown",
   "id": "c9b7bd90",
   "metadata": {},
   "source": [
    "The two features with lowest importance are `X2` and `X4`. We can try removing them from the training and see how does the performance change."
   ]
  },
  {
   "cell_type": "code",
   "execution_count": 38,
   "id": "0b2d8b5d",
   "metadata": {
    "ExecuteTime": {
     "end_time": "2023-02-26T21:05:49.652041Z",
     "start_time": "2023-02-26T21:05:49.564690Z"
    }
   },
   "outputs": [
    {
     "name": "stdout",
     "output_type": "stream",
     "text": [
      "Training Accuracy: 0.84\n",
      "Testing Accuracy: 0.5384615384615384\n"
     ]
    }
   ],
   "source": [
    "# Remove X2, X4 from the dataset\n",
    "X_4_feature = X.drop(['X2', 'X4'], axis=1)\n",
    "X_train_4_feature, X_test_4_feature, y_train, y_test = train_test_split(X_4_feature,\n",
    "                                                y, test_size=0.2, random_state=40)\n",
    "\n",
    "# Reinstantiate and train a 5-feature RF model on the new dataset\n",
    "rf_4_feature = RandomForestClassifier(n_estimators=50, max_depth=4, min_samples_leaf=1,\n",
    "                        random_state=22)\n",
    "rf_4_feature.fit(X_train_4_feature, y_train)\n",
    "print(f'Training Accuracy: {rf_4_feature.score(X_train_4_feature, y_train)}')\n",
    "print(f'Testing Accuracy: {rf_4_feature.score(X_test_4_feature, y_test)}')"
   ]
  },
  {
   "cell_type": "markdown",
   "id": "e249452a",
   "metadata": {},
   "source": [
    "After dropping off the least important features, the model starts to overfit the training data again and the performance on the testset drops significantly. However, what if we switch back to the simple logistic regression model?"
   ]
  },
  {
   "cell_type": "code",
   "execution_count": 47,
   "id": "8f370b87",
   "metadata": {
    "ExecuteTime": {
     "end_time": "2023-02-26T21:06:36.441519Z",
     "start_time": "2023-02-26T21:06:36.343044Z"
    }
   },
   "outputs": [
    {
     "name": "stdout",
     "output_type": "stream",
     "text": [
      "Training Accuracy: 0.71\n",
      "Testing Accuracy: 0.6923076923076923\n"
     ]
    }
   ],
   "source": [
    "rf_4_feature = RandomForestClassifier(n_estimators=70, max_depth=2, min_samples_leaf=1,\n",
    "                        random_state=22)\n",
    "rf_4_feature.fit(X_train_4_feature, y_train)\n",
    "print(f'Training Accuracy: {rf_4_feature.score(X_train_4_feature, y_train)}')\n",
    "print(f'Testing Accuracy: {rf_4_feature.score(X_test_4_feature, y_test)}')"
   ]
  },
  {
   "cell_type": "markdown",
   "id": "cb5917f7",
   "metadata": {},
   "source": [
    "With some tuning, the 4-feature Random Forest Classifier was able to achieve 71% Training Accuracy and 69.23% Testing Accuracy. Which is only about 4% lower comparing to the model using the full features.\n",
    "\n",
    "It seems that we could potentially remove `X2` and `X4` in the next survey. Which makes sense since customer are most likely to have purchased the product acknowledging what is to expect and the price of the item."
   ]
  }
 ],
 "metadata": {
  "kernelspec": {
   "display_name": "Python 3 (ipykernel)",
   "language": "python",
   "name": "python3"
  },
  "language_info": {
   "codemirror_mode": {
    "name": "ipython",
    "version": 3
   },
   "file_extension": ".py",
   "mimetype": "text/x-python",
   "name": "python",
   "nbconvert_exporter": "python",
   "pygments_lexer": "ipython3",
   "version": "3.9.7"
  },
  "varInspector": {
   "cols": {
    "lenName": 16,
    "lenType": 16,
    "lenVar": 40
   },
   "kernels_config": {
    "python": {
     "delete_cmd_postfix": "",
     "delete_cmd_prefix": "del ",
     "library": "var_list.py",
     "varRefreshCmd": "print(var_dic_list())"
    },
    "r": {
     "delete_cmd_postfix": ") ",
     "delete_cmd_prefix": "rm(",
     "library": "var_list.r",
     "varRefreshCmd": "cat(var_dic_list()) "
    }
   },
   "types_to_exclude": [
    "module",
    "function",
    "builtin_function_or_method",
    "instance",
    "_Feature"
   ],
   "window_display": false
  },
  "vscode": {
   "interpreter": {
    "hash": "6bc04f5acdb7bc125537fdceff50e91ddadddde7836095c1a87656b2be0ad856"
   }
  }
 },
 "nbformat": 4,
 "nbformat_minor": 5
}
